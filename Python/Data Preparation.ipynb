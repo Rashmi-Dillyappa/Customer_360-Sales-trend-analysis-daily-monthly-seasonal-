{
 "cells": [
  {
   "cell_type": "code",
   "execution_count": 0,
   "metadata": {
    "application/vnd.databricks.v1+cell": {
     "cellMetadata": {
      "byteLimit": 2048000,
      "rowLimit": 10000
     },
     "inputWidgets": {},
     "nuid": "0c01f7a1-19ce-43e9-92c9-5740ce6951c6",
     "showTitle": false,
     "tableResultSettingsMap": {},
     "title": ""
    }
   },
   "outputs": [
    {
     "output_type": "display_data",
     "data": {
      "text/html": [
       "<style scoped>\n",
       "  .table-result-container {\n",
       "    max-height: 300px;\n",
       "    overflow: auto;\n",
       "  }\n",
       "  table, th, td {\n",
       "    border: 1px solid black;\n",
       "    border-collapse: collapse;\n",
       "  }\n",
       "  th, td {\n",
       "    padding: 5px;\n",
       "  }\n",
       "  th {\n",
       "    text-align: left;\n",
       "  }\n",
       "</style><div class='table-result-container'><table class='table-result'><thead style='background-color: white'><tr><th>customer_id</th><th>name</th><th>email</th><th>age</th><th>gender</th><th>country</th><th>city</th><th>device</th><th>acquisition_channel</th><th>loyalty_status</th></tr></thead><tbody><tr><td>1</td><td>Christopher Moore</td><td>wmoore@hotmail.com</td><td>56</td><td>Other</td><td>Canada</td><td>North Juanshire</td><td>Mobile</td><td>Organic</td><td>Returning</td></tr><tr><td>2</td><td>Lindsay Valencia</td><td>jody98@webb.com</td><td>69</td><td>Other</td><td>UK</td><td>Maryland</td><td>Desktop</td><td>Paid Ads</td><td>New</td></tr><tr><td>3</td><td>Jose Barnes</td><td>parsonsanne@hotmail.com</td><td>46</td><td>Other</td><td>India</td><td>Melissabury</td><td>Tablet</td><td>Paid Ads</td><td>Returning</td></tr><tr><td>4</td><td>Susan Maddox</td><td>brandonhill@gonzalez.com</td><td>32</td><td>Male</td><td>India</td><td>Murphyfort</td><td>Desktop</td><td>Organic</td><td>New</td></tr><tr><td>5</td><td>Nicole Rangel</td><td>tracypace@gmail.com</td><td>60</td><td>Other</td><td>India</td><td>Martinezmouth</td><td>Tablet</td><td>Paid Ads</td><td>New</td></tr></tbody></table></div>"
      ]
     },
     "metadata": {
      "application/vnd.databricks.v1+output": {
       "addedWidgets": {},
       "aggData": [],
       "aggError": "",
       "aggOverflow": false,
       "aggSchema": [],
       "aggSeriesLimitReached": false,
       "aggType": "",
       "arguments": {},
       "columnCustomDisplayInfos": {},
       "data": [
        [
         1,
         "Christopher Moore",
         "wmoore@hotmail.com",
         56,
         "Other",
         "Canada",
         "North Juanshire",
         "Mobile",
         "Organic",
         "Returning"
        ],
        [
         2,
         "Lindsay Valencia",
         "jody98@webb.com",
         69,
         "Other",
         "UK",
         "Maryland",
         "Desktop",
         "Paid Ads",
         "New"
        ],
        [
         3,
         "Jose Barnes",
         "parsonsanne@hotmail.com",
         46,
         "Other",
         "India",
         "Melissabury",
         "Tablet",
         "Paid Ads",
         "Returning"
        ],
        [
         4,
         "Susan Maddox",
         "brandonhill@gonzalez.com",
         32,
         "Male",
         "India",
         "Murphyfort",
         "Desktop",
         "Organic",
         "New"
        ],
        [
         5,
         "Nicole Rangel",
         "tracypace@gmail.com",
         60,
         "Other",
         "India",
         "Martinezmouth",
         "Tablet",
         "Paid Ads",
         "New"
        ]
       ],
       "datasetInfos": [],
       "dbfsResultPath": null,
       "isJsonSchema": true,
       "metadata": {},
       "overflow": false,
       "plotOptions": {
        "customPlotOptions": {},
        "displayType": "table",
        "pivotAggregation": null,
        "pivotColumns": null,
        "xColumns": null,
        "yColumns": null
       },
       "removedWidgets": [],
       "schema": [
        {
         "metadata": "{}",
         "name": "customer_id",
         "type": "\"long\""
        },
        {
         "metadata": "{}",
         "name": "name",
         "type": "\"string\""
        },
        {
         "metadata": "{}",
         "name": "email",
         "type": "\"string\""
        },
        {
         "metadata": "{}",
         "name": "age",
         "type": "\"long\""
        },
        {
         "metadata": "{}",
         "name": "gender",
         "type": "\"string\""
        },
        {
         "metadata": "{}",
         "name": "country",
         "type": "\"string\""
        },
        {
         "metadata": "{}",
         "name": "city",
         "type": "\"string\""
        },
        {
         "metadata": "{}",
         "name": "device",
         "type": "\"string\""
        },
        {
         "metadata": "{}",
         "name": "acquisition_channel",
         "type": "\"string\""
        },
        {
         "metadata": "{}",
         "name": "loyalty_status",
         "type": "\"string\""
        }
       ],
       "type": "table"
      }
     },
     "output_type": "display_data"
    },
    {
     "output_type": "display_data",
     "data": {
      "text/html": [
       "<style scoped>\n",
       "  .table-result-container {\n",
       "    max-height: 300px;\n",
       "    overflow: auto;\n",
       "  }\n",
       "  table, th, td {\n",
       "    border: 1px solid black;\n",
       "    border-collapse: collapse;\n",
       "  }\n",
       "  th, td {\n",
       "    padding: 5px;\n",
       "  }\n",
       "  th {\n",
       "    text-align: left;\n",
       "  }\n",
       "</style><div class='table-result-container'><table class='table-result'><thead style='background-color: white'><tr><th>product_id</th><th>product_name</th><th>category</th><th>price</th></tr></thead><tbody><tr><td>1</td><td>total</td><td>Clothing</td><td>170.55</td></tr><tr><td>2</td><td>notice</td><td>Home</td><td>262.06</td></tr><tr><td>3</td><td>appear</td><td>Beauty</td><td>102.79</td></tr><tr><td>4</td><td>training</td><td>Electronics</td><td>403.56</td></tr><tr><td>5</td><td>start</td><td>Sports</td><td>96.96</td></tr></tbody></table></div>"
      ]
     },
     "metadata": {
      "application/vnd.databricks.v1+output": {
       "addedWidgets": {},
       "aggData": [],
       "aggError": "",
       "aggOverflow": false,
       "aggSchema": [],
       "aggSeriesLimitReached": false,
       "aggType": "",
       "arguments": {},
       "columnCustomDisplayInfos": {},
       "data": [
        [
         1,
         "total",
         "Clothing",
         170.55
        ],
        [
         2,
         "notice",
         "Home",
         262.06
        ],
        [
         3,
         "appear",
         "Beauty",
         102.79
        ],
        [
         4,
         "training",
         "Electronics",
         403.56
        ],
        [
         5,
         "start",
         "Sports",
         96.96
        ]
       ],
       "datasetInfos": [],
       "dbfsResultPath": null,
       "isJsonSchema": true,
       "metadata": {},
       "overflow": false,
       "plotOptions": {
        "customPlotOptions": {},
        "displayType": "table",
        "pivotAggregation": null,
        "pivotColumns": null,
        "xColumns": null,
        "yColumns": null
       },
       "removedWidgets": [],
       "schema": [
        {
         "metadata": "{}",
         "name": "product_id",
         "type": "\"long\""
        },
        {
         "metadata": "{}",
         "name": "product_name",
         "type": "\"string\""
        },
        {
         "metadata": "{}",
         "name": "category",
         "type": "\"string\""
        },
        {
         "metadata": "{}",
         "name": "price",
         "type": "\"double\""
        }
       ],
       "type": "table"
      }
     },
     "output_type": "display_data"
    },
    {
     "output_type": "display_data",
     "data": {
      "text/html": [
       "<style scoped>\n",
       "  .table-result-container {\n",
       "    max-height: 300px;\n",
       "    overflow: auto;\n",
       "  }\n",
       "  table, th, td {\n",
       "    border: 1px solid black;\n",
       "    border-collapse: collapse;\n",
       "  }\n",
       "  th, td {\n",
       "    padding: 5px;\n",
       "  }\n",
       "  th {\n",
       "    text-align: left;\n",
       "  }\n",
       "</style><div class='table-result-container'><table class='table-result'><thead style='background-color: white'><tr><th>transaction_id</th><th>customer_id</th><th>product_id</th><th>purchase_date</th><th>quantity</th><th>payment_method</th><th>status</th><th>total_amount</th></tr></thead><tbody><tr><td>1</td><td>153</td><td>509</td><td>2025-08-29</td><td>4</td><td>PayPal</td><td>Refunded</td><td>242.76</td></tr><tr><td>2</td><td>789</td><td>153</td><td>2025-04-18</td><td>2</td><td>Credit Card</td><td>Refunded</td><td>311.44</td></tr><tr><td>3</td><td>401</td><td>514</td><td>2024-04-20</td><td>3</td><td>PayPal</td><td>Completed</td><td>1496.5500000000002</td></tr><tr><td>4</td><td>279</td><td>503</td><td>2023-10-12</td><td>1</td><td>Wallet</td><td>Returned</td><td>133.72</td></tr><tr><td>5</td><td>57</td><td>854</td><td>2024-03-06</td><td>2</td><td>Wallet</td><td>Returned</td><td>547.52</td></tr></tbody></table></div>"
      ]
     },
     "metadata": {
      "application/vnd.databricks.v1+output": {
       "addedWidgets": {},
       "aggData": [],
       "aggError": "",
       "aggOverflow": false,
       "aggSchema": [],
       "aggSeriesLimitReached": false,
       "aggType": "",
       "arguments": {},
       "columnCustomDisplayInfos": {},
       "data": [
        [
         1,
         153,
         509,
         "2025-08-29",
         4,
         "PayPal",
         "Refunded",
         242.76
        ],
        [
         2,
         789,
         153,
         "2025-04-18",
         2,
         "Credit Card",
         "Refunded",
         311.44
        ],
        [
         3,
         401,
         514,
         "2024-04-20",
         3,
         "PayPal",
         "Completed",
         1496.5500000000002
        ],
        [
         4,
         279,
         503,
         "2023-10-12",
         1,
         "Wallet",
         "Returned",
         133.72
        ],
        [
         5,
         57,
         854,
         "2024-03-06",
         2,
         "Wallet",
         "Returned",
         547.52
        ]
       ],
       "datasetInfos": [],
       "dbfsResultPath": null,
       "isJsonSchema": true,
       "metadata": {},
       "overflow": false,
       "plotOptions": {
        "customPlotOptions": {},
        "displayType": "table",
        "pivotAggregation": null,
        "pivotColumns": null,
        "xColumns": null,
        "yColumns": null
       },
       "removedWidgets": [],
       "schema": [
        {
         "metadata": "{}",
         "name": "transaction_id",
         "type": "\"long\""
        },
        {
         "metadata": "{}",
         "name": "customer_id",
         "type": "\"long\""
        },
        {
         "metadata": "{}",
         "name": "product_id",
         "type": "\"long\""
        },
        {
         "metadata": "{}",
         "name": "purchase_date",
         "type": "\"string\""
        },
        {
         "metadata": "{}",
         "name": "quantity",
         "type": "\"long\""
        },
        {
         "metadata": "{}",
         "name": "payment_method",
         "type": "\"string\""
        },
        {
         "metadata": "{}",
         "name": "status",
         "type": "\"string\""
        },
        {
         "metadata": "{}",
         "name": "total_amount",
         "type": "\"double\""
        }
       ],
       "type": "table"
      }
     },
     "output_type": "display_data"
    }
   ],
   "source": [
    "# Databricks notebook source\n",
    "# MAGIC %md\n",
    "# # \uD83D\uDED2 Customer 360° Analytics for E-commerce\n",
    "# \n",
    "# **Objective:** Build an end-to-end ETL + Analytics pipeline using pandas and seaborn.  \n",
    "# \n",
    "# **Datasets Used:**\n",
    "# - customers.csv  \n",
    "# - products.csv  \n",
    "# - transactions.csv  \n",
    "# - reviews.csv  \n",
    "# - support.csv\n",
    "# \n",
    "# This notebook covers:\n",
    "# 1️⃣ Descriptive Analytics  \n",
    "# 2️⃣ Diagnostic Analytics  \n",
    "# 3️⃣ Predictive Analytics  \n",
    "# 4️⃣ Prescriptive Analytics  \n",
    "# 5️⃣ Advanced AI/ML  \n",
    "# 6️⃣ 360° Customer View\n",
    "# \n",
    "# ---\n",
    "\n",
    "# COMMAND ----------\n",
    "\n",
    "# MAGIC %md\n",
    "# ## Step 1. Setup and Load Data\n",
    "\n",
    "# COMMAND ----------\n",
    "\n",
    "import pandas as pd\n",
    "import numpy as np\n",
    "import seaborn as sns\n",
    "import matplotlib.pyplot as plt\n",
    "from datetime import datetime\n",
    "\n",
    "# Load datasets (update paths according to your environment)\n",
    "customers = pd.read_csv(\"/Workspace/Users/rashmi.dillyappa@gmail.com/customers.csv\")\n",
    "products = pd.read_csv(\"/Workspace/Users/rashmi.dillyappa@gmail.com/products (1).csv\")\n",
    "transactions = pd.read_csv(\"/Workspace/Users/rashmi.dillyappa@gmail.com/transactions.csv\")\n",
    "reviews = pd.read_csv(\"/Workspace/Users/rashmi.dillyappa@gmail.com/reviews.csv\")\n",
    "support = pd.read_csv(\"/Workspace/Users/rashmi.dillyappa@gmail.com/support.csv\")\n",
    "\n",
    "\n",
    "display(customers.head())\n",
    "display(products.head())\n",
    "display(transactions.head())\n",
    "\n",
    "\n",
    "\n",
    "\n"
   ]
  }
 ],
 "metadata": {
  "application/vnd.databricks.v1+notebook": {
   "computePreferences": null,
   "dashboards": [],
   "environmentMetadata": {
    "base_environment": "",
    "environment_version": "3"
   },
   "inputWidgetPreferences": null,
   "language": "python",
   "notebookMetadata": {
    "pythonIndentUnit": 4
   },
   "notebookName": "Untitled Notebook 2025-10-09 19:25:15",
   "widgets": {}
  },
  "language_info": {
   "name": "python"
  }
 },
 "nbformat": 4,
 "nbformat_minor": 0
}